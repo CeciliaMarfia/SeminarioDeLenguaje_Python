{
 "cells": [
  {
   "cell_type": "markdown",
   "metadata": {},
   "source": [
    "# Consulta"
   ]
  },
  {
   "cell_type": "markdown",
   "metadata": {},
   "source": [
    "## Ejercicio 1\n",
    "\n",
    "Informar los diferentes tipos de aeropuertos según la columna 'type'"
   ]
  },
  {
   "cell_type": "code",
   "execution_count": null,
   "metadata": {},
   "outputs": [],
   "source": [
    "import csv\n",
    "from paths import AR_AIRPORTS_COPY_DATA"
   ]
  },
  {
   "cell_type": "code",
   "execution_count": null,
   "metadata": {},
   "outputs": [],
   "source": [
    "def create_list (file, header):\n",
    "    \"\"\"Función que devuelve una lista con todo el contenido de la columna _type_\"\"\"\n",
    "    list_type = []\n",
    "    with open(file, 'r', newline='', encoding='utf-8') as outfile:\n",
    "        reader_AR = csv.DictReader (outfile)\n",
    "        for row in reader_AR:\n",
    "            list_type.append (row[header])\n",
    "    return list_type"
   ]
  },
  {
   "cell_type": "code",
   "execution_count": null,
   "metadata": {},
   "outputs": [],
   "source": [
    "header = 'type'\n",
    "file = AR_AIRPORTS_COPY_DATA\n",
    "try:\n",
    "    type_list = create_list (file, header)\n",
    "    if type_list is not None:\n",
    "        unique_types = set() #conjunto\n",
    "        for row in type_list:\n",
    "            unique_types.add(row)\n",
    "            print (unique_types) \n",
    "except KeyError:\n",
    "    print (\"La clave no existe\")\n",
    "except FileNotFoundError:\n",
    "    print (\"El archivo no fue encontrado\")"
   ]
  },
  {
   "cell_type": "markdown",
   "metadata": {},
   "source": [
    "## Ejercicio 2\n",
    "\n",
    "Informar los aeropuertos de una elevación, (bajo, medio, alto) cuya especificación se permita modificar fácilmente, evaluando la columna creada 'elevation_name'.\n"
   ]
  },
  {
   "cell_type": "code",
   "execution_count": null,
   "metadata": {},
   "outputs": [],
   "source": [
    "import csv\n",
    "from paths import AR_AIRPORTS_COPY_DATA"
   ]
  },
  {
   "cell_type": "code",
   "execution_count": null,
   "metadata": {},
   "outputs": [],
   "source": [
    "def menu():\n",
    "    \"\"\"Muestra un menú para que el usuario seleccione la elevación de un aeropuerto.\"\"\"\n",
    "    options =['1', '2', '3']\n",
    "    print(\"¿De qué elevación es el aeropuerto que desea buscar?\")\n",
    "    print(\"1. Bajo\")\n",
    "    print(\"2. Medio\")\n",
    "    print(\"3. Alto\")\n",
    "    while True:\n",
    "        option = input(\"Seleccione una opción: \")\n",
    "        if option.isdigit():\n",
    "            if option in options:\n",
    "                return ['bajo', 'medio', 'alto'][int(option) - 1]\n",
    "        print('Elevación inválida')"
   ]
  },
  {
   "cell_type": "code",
   "execution_count": null,
   "metadata": {},
   "outputs": [],
   "source": [
    "def create_dict(file, name_header, elevation_header):\n",
    "    \"\"\"Crea un diccionario a partir de un archivo CSV que contiene información sobre aeropuertos.\"\"\"\n",
    "    dict_airports = {}\n",
    "    with open(file, 'r', newline='', encoding='utf-8') as outfile:\n",
    "        reader_AR = csv.DictReader(outfile)\n",
    "        for row in reader_AR:\n",
    "            name = row[name_header]\n",
    "            elevation = row[elevation_header]\n",
    "            dict_airports[name] = elevation\n",
    "    return dict_airports"
   ]
  },
  {
   "cell_type": "code",
   "execution_count": null,
   "metadata": {},
   "outputs": [],
   "source": [
    "option = menu()\n",
    "try:\n",
    "    # diccionario con las columnas que me interesan\n",
    "    file = AR_AIRPORTS_COPY_DATA\n",
    "    airports_data = create_dict (file, 'name', 'elevation_name')\n",
    "\n",
    "    name_list = []\n",
    "    for name, type in airports_data.items():\n",
    "        if type == option:\n",
    "            name_list.append (name)\n",
    "\n",
    "    if len(name_list) == 0:\n",
    "        print (\"No hay aeropuertos de esa elevacion\")\n",
    "    else:\n",
    "        print (name_list)\n",
    "except KeyError as e:\n",
    "    print(f\"La clave '{e.args[0]}' no existe en el diccionario.\")\n",
    "except FileNotFoundError as e:\n",
    "    print(f\"El archivo {e.filename} no fue encontrado\")"
   ]
  },
  {
   "cell_type": "markdown",
   "metadata": {},
   "source": [
    "## Ejercicio 3\n",
    "\n",
    "Informar los aeropuertos que tienen una mayor o menor elevación con respecto al valor numérico dado"
   ]
  },
  {
   "cell_type": "code",
   "execution_count": null,
   "metadata": {},
   "outputs": [],
   "source": [
    "import csv\n",
    "from paths import AR_AIRPORTS_COPY_DATA\n",
    "\n",
    "def get_airports(comparator, value_feet, values_list):\n",
    "    \"\"\"Retorna una lista de nombres de aeropuertos basados en una comparación de altitudes.\"\"\"\n",
    "    list_names = []\n",
    "    for row in values_list:\n",
    "        if row['elevation_ft'] != '':\n",
    "            try:\n",
    "                if comparator == \"menores\": \n",
    "                    if float(row['elevation_ft']) < value_feet:\n",
    "                      list_names.append (row['name'])\n",
    "                else: \n",
    "                    if float(row['elevation_ft']) > value_feet:\n",
    "                     list_names.append (row['name'])\n",
    "            except ValueError:\n",
    "               print (\"{} no tiene cargada su elevacion\".format(row['name']))\n",
    "    return list_names\n",
    "\n",
    "def menu():\n",
    "    \"\"\"Solicita al usuario que elija entre enlistar 'mayores' o 'menores'.\"\"\"\n",
    "    while True:\n",
    "        try:\n",
    "            choice = input(\"Presione 1 para enlistar 'menores', 2 para enlistar 'mayores': \")\n",
    "            if choice == '1':\n",
    "                return 'menores'\n",
    "            elif choice == '2':\n",
    "                return 'mayores'\n",
    "            print(\"Opción no válida\")\n",
    "        except ValueError:\n",
    "            print(\"Por favor ingrese un número entero válido.\")\n",
    "\n",
    "def create_list (file, headers):\n",
    "    \"\"\"Crea una lista de diccionarios a partir de un archivo CSV.\"\"\"\n",
    "    data_list = []\n",
    "    with open( file, 'r', newline='', encoding='utf-8') as outfile:\n",
    "        reader = csv.DictReader (outfile)\n",
    "        for row in reader:\n",
    "            row_diccionary = {header: row[header] for header in headers}\n",
    "            data_list.append (row_diccionary)\n",
    "    return data_list\n"
   ]
  },
  {
   "cell_type": "code",
   "execution_count": null,
   "metadata": {},
   "outputs": [],
   "source": [
    "while True:\n",
    "    try:\n",
    "        value = input(\"Ingrese el numero de elevacion en metros: \")\n",
    "        value = int(value)\n",
    "        break\n",
    "    except ValueError:\n",
    "        print(\"Error. Por favor ingrese un número entero válido.\")\n",
    "\n",
    "\n",
    "value_feet = value * 3.28 #Convierto el valor a ft\n",
    "\n",
    "headers = ['name', 'elevation_ft']\n",
    "option = menu()\n",
    "        \n",
    "try:\n",
    "    file = AR_AIRPORTS_COPY_DATA\n",
    "    values_list = create_list (file, headers )\n",
    "    airports_names = get_airports (option, value_feet, values_list )\n",
    "\n",
    "    if len (airports_names) == 0:\n",
    "        print (\"No hay aeropuertos que cumplan la condicion\")\n",
    "    else:\n",
    "        print (airports_names)\n",
    "except FileNotFoundError as e:\n",
    "    print(f\"El archivo {e.filename} no fue encontrado\")\n",
    "except KeyError as e:\n",
    "    print(f\"La clave '{e.args[0]}' no existe en el diccionario.\")"
   ]
  },
  {
   "cell_type": "markdown",
   "metadata": {},
   "source": [
    "## Ejercicio 4\n",
    "\n",
    "Informar los aeropuertos, lagos y tipo de conectividad en provincias con población mayor o menor a un valor que se pueda especificar fácilmente"
   ]
  },
  {
   "cell_type": "code",
   "execution_count": null,
   "metadata": {},
   "outputs": [],
   "source": [
    "import csv\n",
    "from paths import AR_AIRPORTS_COPY_DATA, CONECTIVIDAD_COPY_DATA,LAGOS_COPY_DATA, C2022_RESUMEN_COPY_DATA "
   ]
  },
  {
   "cell_type": "code",
   "execution_count": null,
   "metadata": {},
   "outputs": [],
   "source": [
    "def create_provinces_list(census, option, value):\n",
    "    \"\"\"Crea una lista de provincias basada en el censo dado y un criterio de selección.\"\"\"\n",
    "    list_prov = []\n",
    "    for prov in census:\n",
    "        if option == \"mayores\":\n",
    "            if float(prov['Total de población']) > value:\n",
    "                list_prov.append(prov['Jurisdicción'].lower())\n",
    "        else:\n",
    "            if float(prov['Total de población']) < value:\n",
    "                list_prov.append(prov['Jurisdicción'].lower())\n",
    "    return list_prov\n",
    "\n",
    "def menu():\n",
    "    \"\"\"Solicita al usuario que elija entre enlistar 'mayores' o 'menores'.\"\"\"\n",
    "    while True:\n",
    "        try:\n",
    "            choice = input(\"Presione 1 para enlistar 'menores', 2 para enlistar 'mayores': \")\n",
    "            if choice == '1':\n",
    "                return 'menores'\n",
    "            elif choice == '2':\n",
    "                return 'mayores'\n",
    "            print(\"Opción no válida\")\n",
    "        except ValueError:\n",
    "            print(\"Por favor ingrese un número entero válido.\")"
   ]
  },
  {
   "cell_type": "code",
   "execution_count": null,
   "metadata": {},
   "outputs": [],
   "source": [
    "def create_list (file, headers):\n",
    "    data_list = []\n",
    "    with open( file, 'r', newline='', encoding='utf-8') as outfile:\n",
    "        reader = csv.DictReader (outfile)\n",
    "        for row in reader:\n",
    "            if file == 'C2022_RESUMEN_COPY_DATA':\n",
    "                next (reader)\n",
    "            row_diccionary = {header: row[header] for header in headers}\n",
    "            data_list.append (row_diccionary)\n",
    "    return data_list"
   ]
  },
  {
   "cell_type": "code",
   "execution_count": null,
   "metadata": {},
   "outputs": [],
   "source": [
    "while True:\n",
    "    try:\n",
    "        value = int(input(\"Ingrese un número de poblacion: \"))\n",
    "        break\n",
    "    except ValueError:\n",
    "        print(\"Error. Por favor ingrese un número entero válido.\")\n",
    "\n",
    "option = menu()\n",
    "\n",
    "try:\n",
    "    # Carga de archivo de censo y crea la lista de provincias\n",
    "    headers = ['Jurisdicción', 'Total de población']\n",
    "    census = create_list(C2022_RESUMEN_COPY_DATA, headers)\n",
    "    provinces = create_provinces_list(census, option, value)\n",
    "\n",
    "    try:\n",
    "        # Carga de archivo de conectividad\n",
    "        with open(CONECTIVIDAD_COPY_DATA, 'r', newline='', encoding='utf-8') as outfile:\n",
    "            reader = csv.DictReader(outfile)\n",
    "            next(reader)\n",
    "            connectivity = list(reader)\n",
    "            \n",
    "        print (\"Tipos de conectividad: \")\n",
    "        provinces_dict = {}\n",
    "        for row in connectivity:\n",
    "            prov = row['Provincia'].lower()\n",
    "            if prov in provinces:\n",
    "                if prov not in provinces_dict:\n",
    "                    provinces_dict[prov] = set()\n",
    "                items_list = list(row.items())[:-1]\n",
    "                provinces_dict[prov].update({key for key, value in items_list if value == 'SI'})\n",
    "        for prov, types in provinces_dict.items():\n",
    "            print(\"{} : {}\".format(prov, types))\n",
    "    except FileNotFoundError as e:\n",
    "        print(f\"El archivo {e.filename} no fue encontrado\")\n",
    "    except KeyError as e:\n",
    "        print(f\"La clave '{e.args[0]}' no existe en el diccionario.\")\n",
    "    \n",
    "    try:\n",
    "        # Carga de archivo de aeropuertos\n",
    "        headers_airports = ['prov_name', 'name']\n",
    "        airports = create_list(AR_AIRPORTS_COPY_DATA, headers_airports)\n",
    "\n",
    "        print(\"Aeropuertos: \")\n",
    "        for row in airports:\n",
    "            airport_aux = row['prov_name'].lower()\n",
    "            if airport_aux == \"buenos aires, ciudad autónoma de\":\n",
    "                airport_aux = \"ciudad autónoma de buenos aires\"\n",
    "            if airport_aux in provinces:\n",
    "                print(row['name'])\n",
    "    except FileNotFoundError as e:\n",
    "            print(f\"El archivo {e.filename} no fue encontrado\")\n",
    "    except KeyError as e:\n",
    "        print(f\"La clave '{e.args[0]}' no existe en el diccionario.\")\n",
    "\n",
    "    try:\n",
    "        # Carga de archivo de lagos\n",
    "        headers_lakes = ['Nombre', 'Ubicación']\n",
    "        lakes = create_list(LAGOS_COPY_DATA, headers_lakes)\n",
    "        \n",
    "        print(\"Lagos: \")\n",
    "        for row in lakes:\n",
    "            aux = row['Ubicación'].lower()\n",
    "            if '/' in aux:\n",
    "                provinces_aux = aux.split('/')\n",
    "                if provinces_aux[0].strip() in provinces or provinces_aux[1].strip() in provinces:\n",
    "                    print(row['Nombre'])\n",
    "            elif aux in provinces:\n",
    "                print(row['Nombre'])\n",
    "    except FileNotFoundError as e:\n",
    "        print(f\"El archivo {e.filename} no fue encontrado\")\n",
    "    except KeyError as e:\n",
    "        print(f\"La clave '{e.args[0]}' no existe en el diccionario.\")\n",
    "\n",
    "except FileNotFoundError as e:\n",
    "    print(f\"El archivo {e.filename} no fue encontrado\")\n",
    "except KeyError as e:\n",
    "    print(f\"La clave '{e.args[0]}' no existe en el diccionario.\")"
   ]
  },
  {
   "cell_type": "markdown",
   "metadata": {},
   "source": [
    "## Ejercicio 5\n",
    "\n",
    "Mostrar los aeropuertos en las capitales de cada provincia."
   ]
  },
  {
   "cell_type": "code",
   "execution_count": null,
   "metadata": {},
   "outputs": [],
   "source": [
    "import csv\n",
    "from paths import AR_AIRPORTS_COPY_DATA, AR_DATA"
   ]
  },
  {
   "cell_type": "code",
   "execution_count": null,
   "metadata": {},
   "outputs": [],
   "source": [
    "def load_data (file,headers ):\n",
    "    \"\"\"Carga los datos del archivo CSV y devuelve una lista de diccionarios\"\"\"\n",
    "    data = []\n",
    "    with open(file, 'r', newline='', encoding='utf-8') as outfile:\n",
    "        reader = csv.DictReader (outfile)\n",
    "        for row in reader:\n",
    "            row_diccionary = {header: row[header] for header in headers}\n",
    "            data.append (row_diccionary)\n",
    "    return data"
   ]
  },
  {
   "cell_type": "code",
   "execution_count": null,
   "metadata": {},
   "outputs": [],
   "source": [
    "try:\n",
    "    columns = ['city', 'admin_name', 'capital']\n",
    "    data_list = load_data (AR_DATA, columns)\n",
    "\n",
    "    provinces_capitals = {} \n",
    "    for row in data_list:\n",
    "        capital = row['capital']\n",
    "        if capital == 'primary' or capital == 'admin':\n",
    "            if capital == 'primary':\n",
    "                province = 'caba'\n",
    "                city = 'buenos aires'\n",
    "            else:\n",
    "                province = row ['admin_name'].lower()\n",
    "                city = row ['city'].lower()\n",
    "            provinces_capitals [province] = city\n",
    "    try:\n",
    "        headers = ['municipality', 'name']\n",
    "        airports = load_data (AR_AIRPORTS_COPY_DATA, headers) \n",
    "\n",
    "        dict_airports = {}\n",
    "        for row in airports:\n",
    "            city = row['municipality'].lower()\n",
    "            for province, capital in provinces_capitals.items(): #comparo ciudades con el contenido del diccionario (capitales)\n",
    "                if city == capital:\n",
    "                    if city not in dict_airports:\n",
    "                        dict_airports[city] = []\n",
    "                    dict_airports[city].append(row['name']) #cada provincia \n",
    "\n",
    "        \"\"\"imprime\"\"\"   \n",
    "        for capital, airports in dict_airports.items():\n",
    "            for province, province_capital in provinces_capitals.items():\n",
    "                if province_capital == capital:\n",
    "                    print (\"Provincia: {}\".format (province))\n",
    "                    print(\"Capital: {}\".format(capital))\n",
    "                    print(\"Aeropuertos:\")\n",
    "                    for airport in airports:\n",
    "                        print(\"- {}\".format(airport))\n",
    "    except:\n",
    "        raise\n",
    "except FileNotFoundError as e:\n",
    "    print(f\"El archivo {e.filename} no fue encontrado\")\n",
    "except KeyError as e:\n",
    "    print(f\"La clave '{e.args[0]}' no existe en el diccionario.\")"
   ]
  },
  {
   "cell_type": "markdown",
   "metadata": {},
   "source": [
    "# Ejercicio 6\n",
    "Mostrar los Lagos de una superficie según la columna 'Sup Tamaño' donde el criterio (chico, medio, grande) se puede indicar fácilmente"
   ]
  },
  {
   "cell_type": "code",
   "execution_count": null,
   "metadata": {},
   "outputs": [],
   "source": [
    "import csv\n",
    "from paths import LAGOS_COPY_DATA"
   ]
  },
  {
   "cell_type": "code",
   "execution_count": null,
   "metadata": {},
   "outputs": [],
   "source": [
    "def create_list (file, headers):\n",
    "    \"\"\"Crea una lista de diccionarios a partir del archivo CSV\"\"\"\n",
    "    data_list = []\n",
    "    with open( file, 'r', newline='', encoding='utf-8') as outfile:\n",
    "        reader = csv.DictReader (outfile)\n",
    "        for row in reader:\n",
    "            row_diccionary = {header: row[header] for header in headers}\n",
    "            data_list.append (row_diccionary)\n",
    "    return data_list"
   ]
  },
  {
   "cell_type": "code",
   "execution_count": null,
   "metadata": {},
   "outputs": [],
   "source": [
    "def menu():\n",
    "    while True:\n",
    "        print(\"Ingrese un número correspondiente al criterio de superficie:\")\n",
    "        print(\"1. Chico\")\n",
    "        print(\"2. Medio\")\n",
    "        print(\"3. Grande\")\n",
    "        option = input(\"Opción: \")\n",
    "        try:\n",
    "            option = int(option)\n",
    "            if option in [1, 2, 3]:\n",
    "                break\n",
    "            else:\n",
    "                print(\"Número inválido. Ingrese 1, 2 o 3.\")\n",
    "        except ValueError:\n",
    "            print(\"Valor inválido. Ingrese un número entero.\")\n",
    "    if option == 1:\n",
    "        return \"chico\"\n",
    "    elif option == 2:\n",
    "        return \"medio\"\n",
    "    else:\n",
    "        return \"grande\""
   ]
  },
  {
   "cell_type": "code",
   "execution_count": null,
   "metadata": {},
   "outputs": [],
   "source": [
    "try:\n",
    "    headers = ['Nombre', 'Sup Tamaño']\n",
    "    lakes = create_list (LAGOS_COPY_DATA, headers)\n",
    "\n",
    "    sup = menu()\n",
    "\n",
    "    for row in lakes:\n",
    "        if row['Sup Tamaño'] == sup:\n",
    "            print (row['Nombre'])\n",
    "except FileNotFoundError as e:\n",
    "    print(f\"El archivo {e.filename} no fue encontrado\")\n",
    "except KeyError as e:\n",
    "    print(f\"La clave '{e.args[0]}' no existe en el diccionario.\")"
   ]
  },
  {
   "cell_type": "markdown",
   "metadata": {},
   "source": [
    "## Ejercicio 7\n",
    "\n",
    "Listar las 5 Jurisdicciones con mayor porcentaje de población en situación de calle.\n",
    "Mostrar el nombre de la jurisdicción y el porcentaje."
   ]
  },
  {
   "cell_type": "code",
   "execution_count": null,
   "metadata": {},
   "outputs": [],
   "source": [
    "import csv\n",
    "from paths import C2022_RESUMEN_COPY_DATA\n",
    "\n",
    "input_file = C2022_RESUMEN_COPY_DATA\n",
    "\n",
    "# Abrimos el archivo en modo lectura para almacenar los datos en una lista de diccionarios\n",
    "jurisdictions_data = []\n",
    "with open(input_file, 'r', encoding='utf-8') as data_file:\n",
    "    reader = csv.DictReader(data_file)\n",
    "    next(reader) # remuevo la fila de total pais\n",
    "    for row in reader:\n",
    "        jurisdictions_data.append(row)\n",
    "\n",
    "jurisdictions_data.sort(key=lambda x: float(x['Porcentaje Población en Situación de Calle']), reverse=True)\n",
    "\n",
    "print(\"Las cinco jurisdicciones con mayor porcentaje de población en situación de calle son:\")\n",
    "for i in range(5):\n",
    "    jurisdiction_name = jurisdictions_data[i]['Jurisdicción']\n",
    "    percentage_homeless = jurisdictions_data[i]['Porcentaje Población en Situación de Calle']\n",
    "    print(f\"{i+1}. {jurisdiction_name}: {percentage_homeless}%\")"
   ]
  },
  {
   "cell_type": "markdown",
   "metadata": {},
   "source": [
    "## Ejercicio 8\n",
    "\n",
    "Obtener la jurisdicción donde la brecha entre las poblaciones diferenciadas según sexo registrado al nacer es mayor. Informar nombre de Jurisdicción y cantidad de la brecha poblacional."
   ]
  },
  {
   "cell_type": "code",
   "execution_count": null,
   "metadata": {},
   "outputs": [],
   "source": [
    "import csv\n",
    "from paths import C2022_RESUMEN_COPY_DATA\n",
    "\n",
    "input_file = C2022_RESUMEN_COPY_DATA\n",
    "max_gap_jurisdiction = None\n",
    "max_gap_amount = 0\n",
    "with open(input_file, 'r', encoding='utf-8') as data_file:\n",
    "    reader = csv.DictReader(data_file)\n",
    "    next (reader)\n",
    "    for row in reader:\n",
    "        male_population = int(row['Varones Total de población'])\n",
    "        female_population = int(row['Mujeres Total de población'])\n",
    "  \n",
    "        gap = abs(male_population - female_population)\n",
    "    \n",
    "        if gap > max_gap_amount:\n",
    "            max_gap_amount = gap\n",
    "            max_gap_jurisdiction = row['Jurisdicción']\n",
    "\n",
    "print(\"Jurisdicción con la mayor brecha poblacional entre varones y mujeres:\",max_gap_jurisdiction)\n",
    "print(\"Brecha poblacional:\", max_gap_amount)"
   ]
  },
  {
   "cell_type": "markdown",
   "metadata": {},
   "source": [
    "# Ejercicio 9\n",
    "Mostrar los diferentes tipos de conectividades."
   ]
  },
  {
   "cell_type": "code",
   "execution_count": null,
   "metadata": {},
   "outputs": [],
   "source": [
    "import csv\n",
    "from paths import CONECTIVIDAD_COPY_DATA\n",
    "with open(CONECTIVIDAD_COPY_DATA , 'r', newline='', encoding='utf-8') as outfile:\n",
    "    reader = csv.DictReader (outfile)\n",
    "    headers = reader.fieldnames #encabezados\n",
    "start = 4\n",
    "number = 9\n",
    "connectivity_types = headers [start : start + number]\n",
    "print (connectivity_types)"
   ]
  },
  {
   "cell_type": "markdown",
   "metadata": {},
   "source": [
    "## Ejercicio 10\n"
   ]
  },
  {
   "cell_type": "markdown",
   "metadata": {},
   "source": [
    "Mostrar las cantidades de localidades con cada tipo de conectividad."
   ]
  },
  {
   "cell_type": "code",
   "execution_count": null,
   "metadata": {},
   "outputs": [],
   "source": [
    "import csv \n",
    "from paths import CONECTIVIDAD_COPY_DATA"
   ]
  },
  {
   "cell_type": "code",
   "execution_count": null,
   "metadata": {},
   "outputs": [],
   "source": [
    "def get_connectivity_fields(CONECTIVIDAD_COPY_DATA):\n",
    "    \"\"\"Obtiene los nombres de campo del encabezado del dataset correspondientes a los tipos de conectividad.\"\"\"\n",
    "    with open(CONECTIVIDAD_COPY_DATA, 'r', newline='', encoding='utf-8') as infile:\n",
    "        reader = csv.reader(infile)\n",
    "        header_fields = next(reader)  \n",
    "        \n",
    "    connectivity_fields = header_fields[4:13]  \n",
    "    \n",
    "    return connectivity_fields"
   ]
  },
  {
   "cell_type": "markdown",
   "metadata": {},
   "source": [
    "Recorrido del dataset, sumando en el diccionario en el campo correspondiente.\n",
    "Luego se imprime la cantidad de localidades por tipo de conectividad."
   ]
  },
  {
   "cell_type": "code",
   "execution_count": null,
   "metadata": {},
   "outputs": [],
   "source": [
    "connectivity_fields = get_connectivity_fields(CONECTIVIDAD_COPY_DATA)\n",
    "connectivity_counts = {field: 0 for field in connectivity_fields}\n",
    "\n",
    "with open(CONECTIVIDAD_COPY_DATA, 'r', newline='', encoding='utf-8') as outfile:\n",
    "    reader = csv.DictReader(outfile)\n",
    "    for row in reader:\n",
    "        for field in connectivity_fields:\n",
    "            if (row[field] == 'SI'):\n",
    "                connectivity_counts[field] += 1\n",
    "\n",
    "for key in connectivity_counts:\n",
    "    print(f\"Hay {connectivity_counts[key]} localidades con conectividad de tipo {key}\")"
   ]
  },
  {
   "cell_type": "markdown",
   "metadata": {},
   "source": [
    "## Ejercicio 11"
   ]
  },
  {
   "cell_type": "markdown",
   "metadata": {},
   "source": [
    "Mostrar las provincias para las cuales todas sus ciudades poseen FIBRA ÓPTICA"
   ]
  },
  {
   "cell_type": "code",
   "execution_count": null,
   "metadata": {},
   "outputs": [],
   "source": [
    "import csv \n",
    "from paths import CONECTIVIDAD_COPY_DATA\n",
    "\n",
    "province_fiber_optic= {}"
   ]
  },
  {
   "cell_type": "code",
   "execution_count": null,
   "metadata": {},
   "outputs": [],
   "source": [
    "def processing_province_fiber_optic (province_fiber_optic):\n",
    "    \"\"\"Comprueba si todas las ciudades de cada provincia tienen FIBRA ÓPTICA e imprime\"\"\"\n",
    "    for province in province_fiber_optic:\n",
    "        if province_fiber_optic[province]['total_cities'] > 0 and province_fiber_optic[province]['total_cities'] == province_fiber_optic[province]['fiber_cities']:\n",
    "            print(f\"Todas las ciudades de {province} poseen FIBRA ÓPTICA.\")"
   ]
  },
  {
   "cell_type": "markdown",
   "metadata": {},
   "source": [
    "Recorrido del dataset tal que si la provincia no está en el diccionario creado, se agrega. Si cumple con lo solicitado suma 1."
   ]
  },
  {
   "cell_type": "code",
   "execution_count": null,
   "metadata": {},
   "outputs": [],
   "source": [
    "with open(CONECTIVIDAD_COPY_DATA, 'r', newline='', encoding='utf-8') as outfile:\n",
    "    reader = csv.DictReader(outfile)\n",
    "    for row in reader:\n",
    "\n",
    "        province = row['Provincia']\n",
    "        if province not in province_fiber_optic:\n",
    "            province_fiber_optic[province] = {'total_cities': 0, 'fiber_cities': 0}\n",
    "        if (row['FIBRAOPTICA'] == 'SI'):\n",
    "            province_fiber_optic[province]['fiber_cities'] += 1\n",
    "\n",
    "        province_fiber_optic[province]['total_cities'] += 1\n",
    "            \n",
    "    processing_province_fiber_optic(province_fiber_optic)\n",
    "\n",
    "    print(province_fiber_optic)"
   ]
  },
  {
   "cell_type": "markdown",
   "metadata": {},
   "source": [
    "# Ejercicio 12\n",
    "Mostrar para cada provincia su capital y, si se conoce la información para dicha capital, informar si posee conectividad (campo 'posee_conectividad' creado previamente). En caso de no conocer la información mostrar el texto “conectividad desconocida”."
   ]
  },
  {
   "cell_type": "code",
   "execution_count": null,
   "metadata": {},
   "outputs": [],
   "source": [
    "import csv\n",
    "from paths import CONECTIVIDAD_COPY_DATA, AR_DATA"
   ]
  },
  {
   "cell_type": "code",
   "execution_count": null,
   "metadata": {},
   "outputs": [],
   "source": [
    "def load_data (file,headers ):\n",
    "    \"\"\"Función que devuelve una lista de diccionarios con los headers que mando como parámetro\"\"\"\n",
    "    data = []\n",
    "    with open(file, 'r', newline='', encoding='utf-8') as outfile:\n",
    "        reader = csv.DictReader (outfile)\n",
    "        for row in reader:\n",
    "            row_diccionary = {header: row[header] for header in headers}\n",
    "            data.append (row_diccionary)\n",
    "    return data"
   ]
  },
  {
   "cell_type": "code",
   "execution_count": null,
   "metadata": {},
   "outputs": [],
   "source": [
    "def load_dict (file, key, value):\n",
    "    \"\"\"Función que devuelve un diccionario con la clave y valor que mande como parámetro\"\"\"\n",
    "    dict_connectivity = {}\n",
    "    with open(file, 'r', newline='', encoding='utf-8') as outfile:\n",
    "        reader = csv.DictReader (outfile)\n",
    "        for row in reader:\n",
    "            town = row[key].lower()\n",
    "            has_connectivity = row [value]\n",
    "            dict_connectivity [town] = has_connectivity\n",
    "    return dict_connectivity"
   ]
  },
  {
   "cell_type": "code",
   "execution_count": null,
   "metadata": {},
   "outputs": [],
   "source": [
    "columns = ['city', 'admin_name', 'capital']\n",
    "data_list = load_data (AR_DATA, columns)\n",
    "\n",
    "provinces_capitals = {} \n",
    "for row in data_list:\n",
    "    capital = row['capital']\n",
    "    if capital == 'primary' or capital == 'admin':\n",
    "        if capital == 'primary':\n",
    "            province = 'caba'\n",
    "            city = 'buenos aires'\n",
    "        else:\n",
    "            province = row ['admin_name'].lower()\n",
    "            city = row ['city'].lower()\n",
    "        provinces_capitals [province] = city\n",
    "        \n",
    "connectivity_dict = load_dict (CONECTIVIDAD_COPY_DATA, 'Localidad', 'posee_conectividad')\n",
    "     \n",
    "\n",
    "for prov , town in provinces_capitals.items ():\n",
    "     print (prov, \":\", town)\n",
    "     if town in connectivity_dict:\n",
    "          if connectivity_dict [town] == 'SI': \n",
    "               print (\"Posee conectividad\")\n",
    "          elif connectivity_dict [town] == 'NO':\n",
    "               print ('No posee conectividad')\n",
    "     else:\n",
    "          print (\"Conectividad desconocida\")"
   ]
  }
 ],
 "metadata": {
  "kernelspec": {
   "display_name": "Python 3",
   "language": "python",
   "name": "python3"
  },
  "language_info": {
   "codemirror_mode": {
    "name": "ipython",
    "version": 3
   },
   "file_extension": ".py",
   "mimetype": "text/x-python",
   "name": "python",
   "nbconvert_exporter": "python",
   "pygments_lexer": "ipython3",
   "version": "3.11.7"
  }
 },
 "nbformat": 4,
 "nbformat_minor": 2
}
