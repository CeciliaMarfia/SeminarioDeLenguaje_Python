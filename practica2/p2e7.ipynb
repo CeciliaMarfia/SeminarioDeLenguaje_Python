{
 "cells": [
  {
   "cell_type": "markdown",
   "metadata": {},
   "source": [
    "# **EJERCICIO 7 - PRÁCTICA 2**\n",
    "7. Dada una frase contar mayúsculas, minúsculas, caracteres no letras y la cantidad de palabras sin distinguir entre mayúsculas y minúsculas.\n",
    "\n",
    "text = \"\"\" La brecha salarial alcanzó el 27,7%: las mujeres ocupadas\n",
    "debieron trabajar 8 días y 10 horas más que los varones ocupados para\n",
    "ganar lo mismo que ellos en un mes. \"\"\""
   ]
  },
  {
   "cell_type": "markdown",
   "metadata": {},
   "source": [
    "Importo la frase a una variable para ser utilizada."
   ]
  },
  {
   "cell_type": "code",
   "execution_count": 9,
   "metadata": {},
   "outputs": [],
   "source": [
    "text = \"\"\" La brecha salarial alcanzó el 27,7%: las mujeres ocupadas\n",
    "debieron trabajar 8 días y 10 horas más que los varones ocupados para\n",
    "ganar lo mismo que ellos en un mes. \"\"\""
   ]
  },
  {
   "cell_type": "markdown",
   "metadata": {},
   "source": [
    "Importo el módulo String para aprovechar sus funcionalidades.\n",
    "Inicializo las variables contadoras y voy recorriendo el texto para ir calculando, luego imprimo el resultado."
   ]
  },
  {
   "cell_type": "code",
   "execution_count": 10,
   "metadata": {},
   "outputs": [
    {
     "name": "stdout",
     "output_type": "stream",
     "text": [
      "* La cantidad de mayúsculas es:  1\n",
      "* La cantidad de minúsculas es:  120\n",
      "* La cantidad de caracteres no letras es:  44\n"
     ]
    }
   ],
   "source": [
    "import string\n",
    "\n",
    "uppercase_count = 0\n",
    "lowercase_count = 0\n",
    "non_letter_count = 0\n",
    "\n",
    "for letter in text:\n",
    "    if letter in string.ascii_uppercase:\n",
    "        uppercase_count +=1\n",
    "    if letter in string.ascii_lowercase:\n",
    "        lowercase_count +=1\n",
    "    if letter not in string.ascii_letters:\n",
    "        non_letter_count += 1\n",
    "\n",
    "print(f\"* La cantidad de mayúsculas es: \" ,uppercase_count)\n",
    "print(f\"* La cantidad de minúsculas es: \" ,lowercase_count)\n",
    "print(f\"* La cantidad de caracteres no letras es: \" ,non_letter_count)\n"
   ]
  },
  {
   "cell_type": "markdown",
   "metadata": {},
   "source": [
    "Limpio el texto para contabilizar la cantidad de palabras sin distinguir entre mayúsculas y minúsculas."
   ]
  },
  {
   "cell_type": "code",
   "execution_count": 11,
   "metadata": {},
   "outputs": [
    {
     "name": "stdout",
     "output_type": "stream",
     "text": [
      "* Cantidad de palabras sin distinguir entre mayúsculas y minúsculas:  27\n"
     ]
    }
   ],
   "source": [
    "clear_text = text.replace(':', '').replace('/', '').replace('.', '').replace('-', '').replace(',', '').replace('%','')\n",
    "words_list = clear_text.split()\n",
    "\n",
    "words_count = 0\n",
    "for word in words_list:\n",
    "    if not word.isdigit():\n",
    "        words_count+=1\n",
    "print(f\"* Cantidad de palabras sin distinguir entre mayúsculas y minúsculas: \",words_count)"
   ]
  }
 ],
 "metadata": {
  "kernelspec": {
   "display_name": "Python 3",
   "language": "python",
   "name": "python3"
  },
  "language_info": {
   "codemirror_mode": {
    "name": "ipython",
    "version": 3
   },
   "file_extension": ".py",
   "mimetype": "text/x-python",
   "name": "python",
   "nbconvert_exporter": "python",
   "pygments_lexer": "ipython3",
   "version": "3.11.8"
  }
 },
 "nbformat": 4,
 "nbformat_minor": 2
}
