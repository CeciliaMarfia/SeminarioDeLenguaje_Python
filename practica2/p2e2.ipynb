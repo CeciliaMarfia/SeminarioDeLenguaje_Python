{
 "cells": [
  {
   "cell_type": "markdown",
   "metadata": {},
   "source": [
    "# **Ejercicio 2 Práctica 2**\n",
    "2. Indique la palabra con más de 4 caracteres que aparece mayor cantidad de veces en el texto del README.md de numpy. Copie y pegue el texto en una variable.\n",
    "Recordemos algunas funciones de string:\n",
    "lower split"
   ]
  },
  {
   "cell_type": "markdown",
   "metadata": {},
   "source": [
    "Copio README.md del repositorio de numpy y lo pego a una variable texto."
   ]
  },
  {
   "cell_type": "code",
   "execution_count": 10,
   "metadata": {},
   "outputs": [],
   "source": [
    "numpy_text = \"\"\"\"NumPy is the fundamental package for scientific computing with Python.\n",
    "\n",
    "Website: https://www.numpy.org\n",
    "Documentation: https://numpy.org/doc\n",
    "Mailing list: https://mail.python.org/mailman/listinfo/numpy-discussion\n",
    "Source code: https://github.com/numpy/numpy\n",
    "Contributing: https://www.numpy.org/devdocs/dev/index.html\n",
    "Bug reports: https://github.com/numpy/numpy/issues\n",
    "Report a security vulnerability: https://tidelift.com/docs/security\n",
    "It provides:\n",
    "\n",
    "a powerful N-dimensional array object\n",
    "sophisticated (broadcasting) functions\n",
    "tools for integrating C/C++ and Fortran code\n",
    "useful linear algebra, Fourier transform, and random number capabilities\n",
    "Testing:\n",
    "\n",
    "NumPy requires pytest and hypothesis. Tests can then be run after installation with:\n",
    "\n",
    "python -c \"import numpy, sys; sys.exit(numpy.test() is False)\"\n",
    "Code of Conduct\n",
    "NumPy is a community-driven open source project developed by a diverse group of contributors. The NumPy leadership has made a strong commitment to creating an open, inclusive, and positive community. Please read the NumPy Code of Conduct for guidance on how to interact with others in a way that makes our community thrive.\n",
    "\n",
    "Call for Contributions\n",
    "The NumPy project welcomes your expertise and enthusiasm!\n",
    "\n",
    "Small improvements or fixes are always appreciated. If you are considering larger contributions to the source code, please contact us through the mailing list first.\n",
    "\n",
    "Writing code isn’t the only way to contribute to NumPy. You can also:\n",
    "\n",
    "review pull requests\n",
    "help us stay on top of new and old issues\n",
    "develop tutorials, presentations, and other educational materials\n",
    "maintain and improve our website\n",
    "develop graphic design for our brand assets and promotional materials\n",
    "translate website content\n",
    "help with outreach and onboard new contributors\n",
    "write grant proposals and help with other fundraising efforts\n",
    "For more information about the ways you can contribute to NumPy, visit our website. If you’re unsure where to start or how your skills fit in, reach out! You can ask on the mailing list or here, on GitHub, by opening a new issue or leaving a comment on a relevant issue that is already open.\n",
    "\n",
    "Our preferred channels of communication are all public, but if you’d like to speak to us in private first, contact our community coordinators at numpy-team@googlegroups.com or on Slack (write numpy-team@googlegroups.com for an invitation).\n",
    "\n",
    "We also have a biweekly community call, details of which are announced on the mailing list. You are very welcome to join.\n",
    "\n",
    "If you are new to contributing to open source, this guide helps explain why, what, and how to successfully get involved.\n",
    "\"\"\""
   ]
  },
  {
   "cell_type": "markdown",
   "metadata": {},
   "source": [
    "Limpio el texto de caracteres especiales.\n",
    "\n",
    "**Observación:** El enunciado no lo aclara pero yo quito los caracteres especiales y hay casos como los enlaces que los tomo como si fuera una sola palabra.\n",
    "\n",
    "Imprimo para corroborar."
   ]
  },
  {
   "cell_type": "code",
   "execution_count": 11,
   "metadata": {},
   "outputs": [
    {
     "name": "stdout",
     "output_type": "stream",
     "text": [
      "\"NumPy is the fundamental package for scientific computing with Python\n",
      "\n",
      "Website httpswwwnumpyorg\n",
      "Documentation httpsnumpyorgdoc\n",
      "Mailing list httpsmailpythonorgmailmanlistinfonumpydiscussion\n",
      "Source code httpsgithubcomnumpynumpy\n",
      "Contributing httpswwwnumpyorgdevdocsdevindexhtml\n",
      "Bug reports httpsgithubcomnumpynumpyissues\n",
      "Report a security vulnerability httpstideliftcomdocssecurity\n",
      "It provides\n",
      "\n",
      "a powerful Ndimensional array object\n",
      "sophisticated (broadcasting) functions\n",
      "tools for integrating CC++ and Fortran code\n",
      "useful linear algebra, Fourier transform, and random number capabilities\n",
      "Testing\n",
      "\n",
      "NumPy requires pytest and hypothesis Tests can then be run after installation with\n",
      "\n",
      "python c \"import numpy, sys; sysexit(numpytest() is False)\"\n",
      "Code of Conduct\n",
      "NumPy is a communitydriven open source project developed by a diverse group of contributors The NumPy leadership has made a strong commitment to creating an open, inclusive, and positive community Please read the NumPy Code of Conduct for guidance on how to interact with others in a way that makes our community thrive\n",
      "\n",
      "Call for Contributions\n",
      "The NumPy project welcomes your expertise and enthusiasm!\n",
      "\n",
      "Small improvements or fixes are always appreciated If you are considering larger contributions to the source code, please contact us through the mailing list first\n",
      "\n",
      "Writing code isn’t the only way to contribute to NumPy You can also\n",
      "\n",
      "review pull requests\n",
      "help us stay on top of new and old issues\n",
      "develop tutorials, presentations, and other educational materials\n",
      "maintain and improve our website\n",
      "develop graphic design for our brand assets and promotional materials\n",
      "translate website content\n",
      "help with outreach and onboard new contributors\n",
      "write grant proposals and help with other fundraising efforts\n",
      "For more information about the ways you can contribute to NumPy, visit our website If you’re unsure where to start or how your skills fit in, reach out! You can ask on the mailing list or here, on GitHub, by opening a new issue or leaving a comment on a relevant issue that is already open\n",
      "\n",
      "Our preferred channels of communication are all public, but if you’d like to speak to us in private first, contact our community coordinators at numpyteam@googlegroupscom or on Slack (write numpyteam@googlegroupscom for an invitation)\n",
      "\n",
      "We also have a biweekly community call, details of which are announced on the mailing list You are very welcome to join\n",
      "\n",
      "If you are new to contributing to open source, this guide helps explain why, what, and how to successfully get involved\n",
      "\n"
     ]
    }
   ],
   "source": [
    "clear_numpy_text = numpy_text.replace(':', '').replace('/', '').replace('.', '').replace('-', '')\n",
    "print(clear_numpy_text)\n"
   ]
  },
  {
   "cell_type": "markdown",
   "metadata": {},
   "source": [
    "Convierto el texto a minusculas y genero una lista con las palabras separadas e imprimo para corroborar."
   ]
  },
  {
   "cell_type": "code",
   "execution_count": 12,
   "metadata": {},
   "outputs": [
    {
     "name": "stdout",
     "output_type": "stream",
     "text": [
      "['\"numpy', 'is', 'the', 'fundamental', 'package', 'for', 'scientific', 'computing', 'with', 'python', 'website', 'httpswwwnumpyorg', 'documentation', 'httpsnumpyorgdoc', 'mailing', 'list', 'httpsmailpythonorgmailmanlistinfonumpydiscussion', 'source', 'code', 'httpsgithubcomnumpynumpy', 'contributing', 'httpswwwnumpyorgdevdocsdevindexhtml', 'bug', 'reports', 'httpsgithubcomnumpynumpyissues', 'report', 'a', 'security', 'vulnerability', 'httpstideliftcomdocssecurity', 'it', 'provides', 'a', 'powerful', 'ndimensional', 'array', 'object', 'sophisticated', '(broadcasting)', 'functions', 'tools', 'for', 'integrating', 'cc++', 'and', 'fortran', 'code', 'useful', 'linear', 'algebra,', 'fourier', 'transform,', 'and', 'random', 'number', 'capabilities', 'testing', 'numpy', 'requires', 'pytest', 'and', 'hypothesis', 'tests', 'can', 'then', 'be', 'run', 'after', 'installation', 'with', 'python', 'c', '\"import', 'numpy,', 'sys;', 'sysexit(numpytest()', 'is', 'false)\"', 'code', 'of', 'conduct', 'numpy', 'is', 'a', 'communitydriven', 'open', 'source', 'project', 'developed', 'by', 'a', 'diverse', 'group', 'of', 'contributors', 'the', 'numpy', 'leadership', 'has', 'made', 'a', 'strong', 'commitment', 'to', 'creating', 'an', 'open,', 'inclusive,', 'and', 'positive', 'community', 'please', 'read', 'the', 'numpy', 'code', 'of', 'conduct', 'for', 'guidance', 'on', 'how', 'to', 'interact', 'with', 'others', 'in', 'a', 'way', 'that', 'makes', 'our', 'community', 'thrive', 'call', 'for', 'contributions', 'the', 'numpy', 'project', 'welcomes', 'your', 'expertise', 'and', 'enthusiasm!', 'small', 'improvements', 'or', 'fixes', 'are', 'always', 'appreciated', 'if', 'you', 'are', 'considering', 'larger', 'contributions', 'to', 'the', 'source', 'code,', 'please', 'contact', 'us', 'through', 'the', 'mailing', 'list', 'first', 'writing', 'code', 'isn’t', 'the', 'only', 'way', 'to', 'contribute', 'to', 'numpy', 'you', 'can', 'also', 'review', 'pull', 'requests', 'help', 'us', 'stay', 'on', 'top', 'of', 'new', 'and', 'old', 'issues', 'develop', 'tutorials,', 'presentations,', 'and', 'other', 'educational', 'materials', 'maintain', 'and', 'improve', 'our', 'website', 'develop', 'graphic', 'design', 'for', 'our', 'brand', 'assets', 'and', 'promotional', 'materials', 'translate', 'website', 'content', 'help', 'with', 'outreach', 'and', 'onboard', 'new', 'contributors', 'write', 'grant', 'proposals', 'and', 'help', 'with', 'other', 'fundraising', 'efforts', 'for', 'more', 'information', 'about', 'the', 'ways', 'you', 'can', 'contribute', 'to', 'numpy,', 'visit', 'our', 'website', 'if', 'you’re', 'unsure', 'where', 'to', 'start', 'or', 'how', 'your', 'skills', 'fit', 'in,', 'reach', 'out!', 'you', 'can', 'ask', 'on', 'the', 'mailing', 'list', 'or', 'here,', 'on', 'github,', 'by', 'opening', 'a', 'new', 'issue', 'or', 'leaving', 'a', 'comment', 'on', 'a', 'relevant', 'issue', 'that', 'is', 'already', 'open', 'our', 'preferred', 'channels', 'of', 'communication', 'are', 'all', 'public,', 'but', 'if', 'you’d', 'like', 'to', 'speak', 'to', 'us', 'in', 'private', 'first,', 'contact', 'our', 'community', 'coordinators', 'at', 'numpyteam@googlegroupscom', 'or', 'on', 'slack', '(write', 'numpyteam@googlegroupscom', 'for', 'an', 'invitation)', 'we', 'also', 'have', 'a', 'biweekly', 'community', 'call,', 'details', 'of', 'which', 'are', 'announced', 'on', 'the', 'mailing', 'list', 'you', 'are', 'very', 'welcome', 'to', 'join', 'if', 'you', 'are', 'new', 'to', 'contributing', 'to', 'open', 'source,', 'this', 'guide', 'helps', 'explain', 'why,', 'what,', 'and', 'how', 'to', 'successfully', 'get', 'involved']\n"
     ]
    }
   ],
   "source": [
    "words_list = clear_numpy_text.lower().split()\n",
    "print(words_list)"
   ]
  },
  {
   "cell_type": "markdown",
   "metadata": {},
   "source": [
    "Creo una lista vacía en la cual ire almacenando todas aquellas palabras que contengan más de 4 caracteres e imprimo para corroborar."
   ]
  },
  {
   "cell_type": "code",
   "execution_count": 14,
   "metadata": {},
   "outputs": [
    {
     "name": "stdout",
     "output_type": "stream",
     "text": [
      "['\"numpy', 'fundamental', 'package', 'scientific', 'computing', 'python', 'website', 'httpswwwnumpyorg', 'documentation', 'httpsnumpyorgdoc', 'mailing', 'httpsmailpythonorgmailmanlistinfonumpydiscussion', 'source', 'httpsgithubcomnumpynumpy', 'contributing', 'httpswwwnumpyorgdevdocsdevindexhtml', 'reports', 'httpsgithubcomnumpynumpyissues', 'report', 'security', 'vulnerability', 'httpstideliftcomdocssecurity', 'provides', 'powerful', 'ndimensional', 'array', 'object', 'sophisticated', '(broadcasting)', 'functions', 'tools', 'integrating', 'fortran', 'useful', 'linear', 'algebra,', 'fourier', 'transform,', 'random', 'number', 'capabilities', 'testing', 'numpy', 'requires', 'pytest', 'hypothesis', 'tests', 'after', 'installation', 'python', '\"import', 'numpy,', 'sysexit(numpytest()', 'false)\"', 'conduct', 'numpy', 'communitydriven', 'source', 'project', 'developed', 'diverse', 'group', 'contributors', 'numpy', 'leadership', 'strong', 'commitment', 'creating', 'open,', 'inclusive,', 'positive', 'community', 'please', 'numpy', 'conduct', 'guidance', 'interact', 'others', 'makes', 'community', 'thrive', 'contributions', 'numpy', 'project', 'welcomes', 'expertise', 'enthusiasm!', 'small', 'improvements', 'fixes', 'always', 'appreciated', 'considering', 'larger', 'contributions', 'source', 'code,', 'please', 'contact', 'through', 'mailing', 'first', 'writing', 'isn’t', 'contribute', 'numpy', 'review', 'requests', 'issues', 'develop', 'tutorials,', 'presentations,', 'other', 'educational', 'materials', 'maintain', 'improve', 'website', 'develop', 'graphic', 'design', 'brand', 'assets', 'promotional', 'materials', 'translate', 'website', 'content', 'outreach', 'onboard', 'contributors', 'write', 'grant', 'proposals', 'other', 'fundraising', 'efforts', 'information', 'about', 'contribute', 'numpy,', 'visit', 'website', 'you’re', 'unsure', 'where', 'start', 'skills', 'reach', 'mailing', 'here,', 'github,', 'opening', 'issue', 'leaving', 'comment', 'relevant', 'issue', 'already', 'preferred', 'channels', 'communication', 'public,', 'you’d', 'speak', 'private', 'first,', 'contact', 'community', 'coordinators', 'numpyteam@googlegroupscom', 'slack', '(write', 'numpyteam@googlegroupscom', 'invitation)', 'biweekly', 'community', 'call,', 'details', 'which', 'announced', 'mailing', 'welcome', 'contributing', 'source,', 'guide', 'helps', 'explain', 'what,', 'successfully', 'involved']\n"
     ]
    }
   ],
   "source": [
    "four_char_list = []\n",
    "for word in words_list:\n",
    "    if len(word) > 4:\n",
    "        four_char_list.append(word)\n",
    "\n",
    "print(four_char_list)"
   ]
  },
  {
   "cell_type": "markdown",
   "metadata": {},
   "source": [
    "Una vez creada la lista con aquellas palabras de más de 4 caracteres voy a recorrerla en búsqueda de aquella palabra con mayor cantidad de apariciones aprovechando count."
   ]
  },
  {
   "cell_type": "code",
   "execution_count": 15,
   "metadata": {},
   "outputs": [
    {
     "name": "stdout",
     "output_type": "stream",
     "text": [
      "La palabra que mas veces aparece es numpy con una cantidad de 6 apariciones\n"
     ]
    }
   ],
   "source": [
    "max = -1\n",
    "max_word = \"\"\n",
    "\n",
    "for word in four_char_list:\n",
    "    if four_char_list.count(word) > max:\n",
    "        max = four_char_list.count(word)\n",
    "        max_word = word\n",
    "\n",
    "print(f\"La palabra que mas veces aparece es {max_word} con una cantidad de {max} apariciones\")"
   ]
  }
 ],
 "metadata": {
  "kernelspec": {
   "display_name": "Python 3",
   "language": "python",
   "name": "python3"
  },
  "language_info": {
   "codemirror_mode": {
    "name": "ipython",
    "version": 3
   },
   "file_extension": ".py",
   "mimetype": "text/x-python",
   "name": "python",
   "nbconvert_exporter": "python",
   "pygments_lexer": "ipython3",
   "version": "3.11.8"
  }
 },
 "nbformat": 4,
 "nbformat_minor": 2
}
