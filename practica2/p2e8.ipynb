{
 "cells": [
  {
   "cell_type": "markdown",
   "metadata": {},
   "source": [
    "# **EJERCICIO 8 - PRÁCTICA 2**\n",
    "8. Escriba un programa que solicite que se ingrese una palabra o frase y permita identificar si la misma es un Heterograma (tenga en cuenta que el contenido del enlace es una traducción del inglés por lo cual las palabras que nombra no son heterogramas en español). Un Heterograma es una palabra o frase que no tiene ninguna letra repetida entre sus caracteres.\n",
    "Tener en cuenta:\n",
    "• Lo que no se puede repetir en la frase son sólo aquellos caracteres que sean letras.\n",
    "\n",
    "• No se distingue entre mayúsculas y minúsculas, es decir si en la frase o palabra tenemos la letra \"T\" y la letra \"t\" la misma NO será un Heterograma.\n",
    "\n",
    "• Para simplificar el ejercicio vamos a tomar como que las letras con tilde y sin tilde son distintas. Ya que Python las diferencia:\n",
    "Ejemplos\n",
    "\n",
    "| Entrada| ¿Heterograma? |\n",
    "|--------------|--------------|\n",
    "| cruzamiento | Sí |\n",
    "| centrifugados  |Sí |\n",
    "| portón|Sí |\n",
    "| casa | No |\n",
    "| día de sol  |No |\n",
    "| con diez uñas|Sí | \n",
    "| no-se-duplica |Sí | \n"
   ]
  },
  {
   "cell_type": "markdown",
   "metadata": {},
   "source": [
    "Le pido al usuario que ingrese una palabra o frase:"
   ]
  },
  {
   "cell_type": "code",
   "execution_count": 7,
   "metadata": {},
   "outputs": [
    {
     "name": "stdout",
     "output_type": "stream",
     "text": [
      "día de sol No es heterograma!\n"
     ]
    }
   ],
   "source": [
    "phrase = input (\"Ingrese una palabra o frase:\")\n",
    "words_list = phrase.split(\" \")\n",
    "letters = []\n",
    "esHeterograma = True\n",
    "for word in words_list:\n",
    "  for character in word:\n",
    "      if (character.isalpha()) and(character not in letters):\n",
    "          letters.append(character)\n",
    "      elif character.isalpha():\n",
    "          esHeterograma = False\n",
    "          break\n",
    "\n",
    "if (esHeterograma):\n",
    "    print(phrase, \"Es heterograma!\")\n",
    "else:\n",
    "    print(phrase, \"No es heterograma!\")"
   ]
  },
  {
   "cell_type": "markdown",
   "metadata": {},
   "source": []
  },
  {
   "cell_type": "markdown",
   "metadata": {},
   "source": []
  }
 ],
 "metadata": {
  "kernelspec": {
   "display_name": "Python 3",
   "language": "python",
   "name": "python3"
  },
  "language_info": {
   "codemirror_mode": {
    "name": "ipython",
    "version": 3
   },
   "file_extension": ".py",
   "mimetype": "text/x-python",
   "name": "python",
   "nbconvert_exporter": "python",
   "pygments_lexer": "ipython3",
   "version": "3.11.8"
  }
 },
 "nbformat": 4,
 "nbformat_minor": 2
}
