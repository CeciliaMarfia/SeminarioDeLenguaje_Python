{
 "cells": [
  {
   "cell_type": "markdown",
   "metadata": {},
   "source": [
    "# **Ejercicio 3 - Práctica 2**\n",
    "3. Dado el siguiente texto guardado en la varible jupyter_info, solicite por teclado una\n",
    "letra e imprima las palabras que contengan dicha letra. En caso que no se haya ingresado un letra, indique el error. Ver: módulo string\n",
    "jupyter_info = \"\"\" JupyterLab is a web-based interactive development\n",
    "environment for Jupyter notebooks, code, and data. JupyterLab is\n",
    "flexible: configure and arrange the user interface to support a wide\n",
    "range of workflows in data science, scientific computing, and machine\n",
    "learning. JupyterLab is extensible and modular: write plugins that add\n",
    "new components and integrate with existing ones. \"\"\""
   ]
  },
  {
   "cell_type": "markdown",
   "metadata": {},
   "source": [
    "Importo el módulo String para utilizar sus funcionalidades y utilizo la variable que me otorgan con su texto asignado."
   ]
  },
  {
   "cell_type": "code",
   "execution_count": 7,
   "metadata": {},
   "outputs": [],
   "source": [
    "import string\n",
    "\n",
    "jupyter_info = \"\"\"JupyterLab is a web-based interactive development\n",
    "environment for Jupyter notebooks, code, and data. JupyterLab is\n",
    "flexible: configure and arrange the user interface to support a wide\n",
    "range of workflows in data science, scientific computing, and machine\n",
    "learning. JupyterLab is extensible and modular: write plugins that add\n",
    "new components and integrate with existing ones.\"\"\"\n"
   ]
  },
  {
   "cell_type": "markdown",
   "metadata": {},
   "source": [
    "Genero una lista donde voy a almacenar todas las palabras por separado e imprimo para corroborarlo."
   ]
  },
  {
   "cell_type": "code",
   "execution_count": 8,
   "metadata": {},
   "outputs": [
    {
     "name": "stdout",
     "output_type": "stream",
     "text": [
      "['JupyterLab', 'is', 'a', 'web-based', 'interactive', 'development', 'environment', 'for', 'Jupyter', 'notebooks,', 'code,', 'and', 'data.', 'JupyterLab', 'is', 'flexible:', 'configure', 'and', 'arrange', 'the', 'user', 'interface', 'to', 'support', 'a', 'wide', 'range', 'of', 'workflows', 'in', 'data', 'science,', 'scientific', 'computing,', 'and', 'machine', 'learning.', 'JupyterLab', 'is', 'extensible', 'and', 'modular:', 'write', 'plugins', 'that', 'add', 'new', 'components', 'and', 'integrate', 'with', 'existing', 'ones.']\n"
     ]
    }
   ],
   "source": [
    "word_list = jupyter_info.split()\n",
    "print(word_list)"
   ]
  },
  {
   "cell_type": "markdown",
   "metadata": {},
   "source": [
    "Solicito al usuario una letra, verifico que sea solo una letra y la convierto en minúscula, caso contrario informo el error en pantalla.\n",
    "Imprimo las palabras que contengan dicha letra."
   ]
  },
  {
   "cell_type": "code",
   "execution_count": 9,
   "metadata": {},
   "outputs": [
    {
     "name": "stdout",
     "output_type": "stream",
     "text": [
      "Las palabras que contienen la letra 'a' son:\n",
      "JupyterLab\n",
      "a\n",
      "web-based\n",
      "interactive\n",
      "and\n",
      "data.\n",
      "JupyterLab\n",
      "and\n",
      "arrange\n",
      "interface\n",
      "a\n",
      "range\n",
      "data\n",
      "and\n",
      "machine\n",
      "learning.\n",
      "JupyterLab\n",
      "and\n",
      "modular:\n",
      "that\n",
      "add\n",
      "and\n",
      "integrate\n"
     ]
    }
   ],
   "source": [
    "\n",
    "letter = input(\"Ingrese una letra: \").lower()\n",
    "\n",
    "if len(letter) != 1 or letter not in string.ascii_letters:\n",
    "    print(\"Error: Debe ingresar una única letra.\")\n",
    "else:\n",
    "    print(f\"Las palabras que contienen la letra '{letter}' son:\")\n",
    "    for word in word_list:\n",
    "        if letter in word:\n",
    "            print(word)"
   ]
  }
 ],
 "metadata": {
  "kernelspec": {
   "display_name": "Python 3",
   "language": "python",
   "name": "python3"
  },
  "language_info": {
   "codemirror_mode": {
    "name": "ipython",
    "version": 3
   },
   "file_extension": ".py",
   "mimetype": "text/x-python",
   "name": "python",
   "nbconvert_exporter": "python",
   "pygments_lexer": "ipython3",
   "version": "3.11.8"
  }
 },
 "nbformat": 4,
 "nbformat_minor": 2
}
