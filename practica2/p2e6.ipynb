{
 "cells": [
  {
   "cell_type": "markdown",
   "metadata": {},
   "source": [
    "# **Ejercicio 6 - Práctica 2**\n",
    "6. Dada una frase y un string ingresados por teclado (en ese orden), genere una lista de palabras, y sobre ella, informe la cantidad de palabras en las que se encuentra el string. No distingir entre mayúsculas y minúsculas\n",
    "\n",
    "Ejemplo 1\n",
    "Para la frase: \"Tres tristes tigres, tragaban trigo en un trigal, en tres tristes\n",
    "trastos, tragaban trigo tres tristes tigres.\" Palabra: \"tres\"\n",
    "Resultado: 3\n",
    "\n",
    "Ejemplo 2\n",
    "Para la frase: \"Tres tristes tigres, tragaban trigo en un trigal, en tres tristes\n",
    "trastos, tragaban trigo tres tristes tigres.\" Palabra: \"tigres\"\n",
    "Resultado: 2\n",
    "\n",
    "Ejemplo 3\n",
    "Para la frase: \"Tres tristes tigres, tragaban trigo en un trigal, en tres tristes trastos, tragaban trigo tres tristes tigres.\"\n",
    "Palabra: \"TRISTES\"\n",
    "Resultado: 3"
   ]
  },
  {
   "cell_type": "markdown",
   "metadata": {},
   "source": [
    "Pido al usuario que ingrese una frase y un string por teclado, en ese orden."
   ]
  },
  {
   "cell_type": "code",
   "execution_count": 21,
   "metadata": {},
   "outputs": [],
   "source": [
    "phrase = input(\"Ingrese una frase: \").lower()\n",
    "the_string = input(\"Ingrese un string: \").lower()"
   ]
  },
  {
   "cell_type": "markdown",
   "metadata": {},
   "source": [
    "Limpio de caracteres especiales de la frase."
   ]
  },
  {
   "cell_type": "code",
   "execution_count": 22,
   "metadata": {},
   "outputs": [
    {
     "name": "stdout",
     "output_type": "stream",
     "text": [
      "tres tristes tigres tragaban trigo en un trigal en tres tristes trastos tragaban trigo tres tristes tigres\n"
     ]
    }
   ],
   "source": [
    "clear_phrase = phrase.replace(':', '').replace('/', '').replace('.', '').replace('-', '').replace(',', '')\n",
    "print(clear_phrase)"
   ]
  },
  {
   "cell_type": "markdown",
   "metadata": {},
   "source": [
    "Genero una lista donde voy a almacenar cada palabra de la frase recientemente ingresada e imprimo para verificar."
   ]
  },
  {
   "cell_type": "code",
   "execution_count": 23,
   "metadata": {},
   "outputs": [
    {
     "name": "stdout",
     "output_type": "stream",
     "text": [
      "['tres', 'tristes', 'tigres', 'tragaban', 'trigo', 'en', 'un', 'trigal', 'en', 'tres', 'tristes', 'trastos', 'tragaban', 'trigo', 'tres', 'tristes', 'tigres']\n"
     ]
    }
   ],
   "source": [
    "words_list = clear_phrase.split()\n",
    "print(words_list)"
   ]
  },
  {
   "cell_type": "markdown",
   "metadata": {},
   "source": [
    "Cuento la cantidad de veces que el string utilizado aparece en la frase ingresada."
   ]
  },
  {
   "cell_type": "code",
   "execution_count": 24,
   "metadata": {},
   "outputs": [
    {
     "name": "stdout",
     "output_type": "stream",
     "text": [
      "La cantidad de veces que aparece el string 'tres' en la frase es 3\n"
     ]
    }
   ],
   "source": [
    "#Inicializo el contador en 0\n",
    "word_counter = 0\n",
    "for word in words_list:\n",
    "    if (word in the_string):\n",
    "        word_counter+=1\n",
    "print(f\"La cantidad de veces que aparece el string '{the_string}' en la frase es {word_counter}\")"
   ]
  }
 ],
 "metadata": {
  "kernelspec": {
   "display_name": "Python 3",
   "language": "python",
   "name": "python3"
  },
  "language_info": {
   "codemirror_mode": {
    "name": "ipython",
    "version": 3
   },
   "file_extension": ".py",
   "mimetype": "text/x-python",
   "name": "python",
   "nbconvert_exporter": "python",
   "pygments_lexer": "ipython3",
   "version": "3.11.8"
  }
 },
 "nbformat": 4,
 "nbformat_minor": 2
}
