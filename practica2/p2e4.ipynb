{
 "cells": [
  {
   "cell_type": "markdown",
   "metadata": {},
   "source": [
    "# **Ejercicio 4 - Práctica 2**\n",
    "4. Dado el siguiente código que informa si la letra a se encuentra en una palabra ingresada por teclado:\n",
    "\n",
    "Código:\n",
    "word = input(\"Ingresá una palabra: \")\n",
    "if \"a\" in word:\n",
    "        print(\"Hay al menos una letra a.\")\n",
    "else:\n",
    "        print(\"No hay letras a. \")\n",
    "Salida:\n",
    "Si ahora queremos saber si contiene la letra a y también la letra n, ¿cómo lo\n",
    "modificamos?"
   ]
  },
  {
   "cell_type": "code",
   "execution_count": 10,
   "metadata": {},
   "outputs": [
    {
     "name": "stdout",
     "output_type": "stream",
     "text": [
      "No hay ocurrencia de 'a' y 'n' a la vez\n"
     ]
    }
   ],
   "source": [
    "#Código modificado:\n",
    "word = input(\"Ingresá una palabra: \")\n",
    "if (\"a\" in word) and (\"n\" in word):\n",
    "        print(\"Hay al menos una letra a y una letra n.\")\n",
    "\n",
    "else:\n",
    "    print(\"No hay ocurrencia de 'a' y 'n' a la vez\")\n"
   ]
  }
 ],
 "metadata": {
  "kernelspec": {
   "display_name": "Python 3",
   "language": "python",
   "name": "python3"
  },
  "language_info": {
   "codemirror_mode": {
    "name": "ipython",
    "version": 3
   },
   "file_extension": ".py",
   "mimetype": "text/x-python",
   "name": "python",
   "nbconvert_exporter": "python",
   "pygments_lexer": "ipython3",
   "version": "3.11.8"
  }
 },
 "nbformat": 4,
 "nbformat_minor": 2
}
