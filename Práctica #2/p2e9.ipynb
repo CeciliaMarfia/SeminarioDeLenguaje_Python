{
 "cells": [
  {
   "cell_type": "markdown",
   "metadata": {},
   "source": [
    "# **EJERCICIO 9 - PRÁCTICA 2**\n",
    "9. Escriba un programa que solicite por teclado una palabra y calcule el valor de la misma dada la siguiente tabla de valores del juego Scrabble:\n",
    "\n",
    "| Letra| Valor |\n",
    "|--------------|--------------|\n",
    "| A, E, I, O, U, L, N, R, S, T | 1 |\n",
    "| D, G  | 2 |\n",
    "| B, C, M, P| 3 |\n",
    "| F, H, V, W, Y | 4 |\n",
    "| K | 5 |\n",
    "| J, X| 8 | \n",
    "| Q, Z | 10 | \n",
    "\n",
    "*Tenga en cuenta qué estructura elige para guardar estos valores en Python\n",
    "\n",
    "• Ejemplo 1\n",
    "Palabra: \"solo\"\n",
    "valor: 4\n",
    "\n",
    "• Ejemplo 2\n",
    "Palabra: \"tomate\"\n",
    "valor: 8"
   ]
  },
  {
   "cell_type": "markdown",
   "metadata": {},
   "source": [
    "Solicito al usuario que ingrese una palabra y la convierto a minúsculas:"
   ]
  },
  {
   "cell_type": "code",
   "execution_count": 13,
   "metadata": {},
   "outputs": [],
   "source": [
    "word = input (\"Ingrese una palabra:\").lower()"
   ]
  },
  {
   "cell_type": "markdown",
   "metadata": {},
   "source": [
    "Armo tuplas con los puntajes para aquellos puntos que contienen más de 2 letras.\n",
    "Comienzo el contador de puntaje en 0 y voy recorriendo la palabra, según la letra voy sumando el total del puntaje"
   ]
  },
  {
   "cell_type": "code",
   "execution_count": 14,
   "metadata": {},
   "outputs": [
    {
     "name": "stdout",
     "output_type": "stream",
     "text": [
      "Palabra: tomate\n",
      "Puntos: 8\n"
     ]
    }
   ],
   "source": [
    "one_point = (\"a\", \"e\", \"i\", \"o\", \"u\", \"l\", \"n\", \"r\", \"s\", \"t\")\n",
    "three_points= (\"b\", \"c\", \"m\", \"p\")\n",
    "four_points = (\"f\", \"h\", \"w\", \"v\", \"y\")\n",
    "\n",
    "total_points = 0\n",
    "\n",
    "for letter in word:\n",
    "    if letter in one_point:\n",
    "        total_points += 1\n",
    "    elif letter == \"d\" or letter == \"g\":\n",
    "        total_points += 2\n",
    "    elif letter in three_points:\n",
    "        total_points += 3\n",
    "    elif letter in four_points:\n",
    "        total_points += 4\n",
    "    elif letter == \"k\":\n",
    "        total_points += 5\n",
    "    elif letter == \"j\" or letter == \"x\":\n",
    "        total_points += 8\n",
    "    else:\n",
    "        total_points += 10\n",
    "\n",
    "print(f\"Palabra: {word}\")\n",
    "print(f\"Puntos: {total_points}\")"
   ]
  },
  {
   "cell_type": "code",
   "execution_count": null,
   "metadata": {},
   "outputs": [],
   "source": []
  }
 ],
 "metadata": {
  "kernelspec": {
   "display_name": "Python 3",
   "language": "python",
   "name": "python3"
  },
  "language_info": {
   "codemirror_mode": {
    "name": "ipython",
    "version": 3
   },
   "file_extension": ".py",
   "mimetype": "text/x-python",
   "name": "python",
   "nbconvert_exporter": "python",
   "pygments_lexer": "ipython3",
   "version": "3.11.8"
  }
 },
 "nbformat": 4,
 "nbformat_minor": 2
}
