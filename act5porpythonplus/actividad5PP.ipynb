{
 "cells": [
  {
   "cell_type": "markdown",
   "metadata": {},
   "source": [
    "### 1. Actividad 5 por Python plus\n",
    "\n",
    "Siguiendo los lineamientos dados, graba un video breve, de no más de cinco (5) minutos, en donde se explique el ejercicio asignado. Al finalizar, copia el enlace al video como respuesta a la tarea ACT 5 por Python plus.\n",
    "\n",
    "**IMPORTANTE:** Tienes 3 horas a partir del momento en que te asignamos el enunciado.\n",
    "\n",
    "---\n",
    "\n",
    "### 2. Enunciado 12\n",
    "\n",
    "Copia el siguiente código al IDE que utilizas habitualmente y responde las consignas de la siguiente sección. Para probar el código, debes descargar el archivo: [area_protegida.csv](ruta_al_archivo).\n",
    "\n",
    "El archivo original está en el portal IGN."
   ]
  },
  {
   "cell_type": "code",
   "execution_count": 1,
   "metadata": {},
   "outputs": [
    {
     "name": "stdout",
     "output_type": "stream",
     "text": [
      "-------------Super listado--------------\n",
      "2: 416054143\n",
      "1: 66865824\n",
      "0: 8030514\n"
     ]
    }
   ],
   "source": [
    "import csv\n",
    "\n",
    "file_route = \"area_protegida.csv\"\n",
    "\n",
    "def print_report(title, *args):\n",
    "    print(f\"{title.capitalize():-^40}\")\n",
    "    for elem in args:\n",
    "        print(f\"{elem[0]}: {elem[1]}\")\n",
    "\n",
    "with open(file_route, \"r\") as data_set:\n",
    "    reader = csv.reader(data_set)\n",
    "    header, data = next(reader), list(reader)\n",
    "\n",
    "my_data = {}\n",
    "for row in data:\n",
    "    num = int(row[13]) if row[13]!=\"\" else 0\n",
    "    if row[8] in my_data:\n",
    "        my_data[row[8]] += num\n",
    "    else:\n",
    "        my_data[row[8]] = num\n",
    "\n",
    "top_rating = sorted(my_data.items(), key=lambda x: x[1], reverse=True)[:5]\n",
    "print_report(\"Super listado\", top_rating[0], top_rating[1], top_rating[2])"
   ]
  },
  {
   "cell_type": "markdown",
   "metadata": {},
   "source": []
  },
  {
   "cell_type": "markdown",
   "metadata": {},
   "source": [
    "#### 1-Analizá el código y respondé:\n",
    "• (a) Mostrá la ejecución del código y explicá qué hace. ¿Cuál es el nombre de la variable que\n",
    "hace referencia al objeto tipo file? ¿Qué se muestra en el listado?\n",
    "\n",
    "• (b) Escribí una solución alternativa usando pandas. Mostrá la ejecución de tu versión y\n",
    "explicá en detalle qué hace. En esta versión,¿es necesario abrir el archivo con la función\n",
    "open? ¿Por qué?\n",
    "\n",
    "#### •Nota: \n",
    "La salida de la solución con pandas no es necesario que sea exactamente igual en\n",
    "cuanto a formato. Lo importante es que se muestren los datos filtrados de acuerdo con lo\n",
    "especificado en el código original.\n",
    "\n",
    "• Teniendo en cuenta tu solución, respondé:\n",
    "\n",
    "– (c) Mostrá en tu código algún objeto de tipo dataframe y otro de tipo Series.\n",
    "\n",
    "– (d) ¿De qué manera (usando pandas) podemos obtener cuáles son las columnas del\n",
    "dataset? ¿Y los tipos de datos de las columnas? Ejemplificá con los objetos mostrados\n",
    "en el inciso anterior.\n",
    "\n",
    "– (e) En base a tu versión en pandas del código dado, describí al menos dos ventajas del\n",
    "uso de esta librería sobre el manejo de archivos csv. Si considerás que no las hay, indicá\n",
    "en qué te basás\n"
   ]
  },
  {
   "cell_type": "markdown",
   "metadata": {},
   "source": [
    "a.La variable que hace referencia al objeto tipo file es data_set. En el listado se muestran las 3 primeras entradas de la variable top_rating, que contiene las áreas protegidas con mayor puntaje, junto con su puntaje correspondiente."
   ]
  },
  {
   "cell_type": "markdown",
   "metadata": {},
   "source": [
    "Inciso b: "
   ]
  },
  {
   "cell_type": "code",
   "execution_count": 2,
   "metadata": {},
   "outputs": [],
   "source": [
    "import pandas as pd"
   ]
  },
  {
   "cell_type": "code",
   "execution_count": 3,
   "metadata": {},
   "outputs": [
    {
     "name": "stdout",
     "output_type": "stream",
     "text": [
      "-------------Super listado--------------\n",
      "2: 416054143\n",
      "1: 66865824\n",
      "0: 8030514\n"
     ]
    }
   ],
   "source": [
    "df = pd.read_csv(file_route)\n",
    "\n",
    "my_data = df.groupby('tap')['area'].sum()\n",
    "\n",
    "top_rating = my_data.sort_values(ascending=False).head(5)\n",
    "\n",
    "print_report(\"Super listado\", *top_rating.head(3).items())\n",
    "#No es necesario realizar open porque ya el archivo es abierto por pandas"
   ]
  },
  {
   "cell_type": "markdown",
   "metadata": {},
   "source": [
    "Inciso c:"
   ]
  },
  {
   "cell_type": "code",
   "execution_count": 4,
   "metadata": {},
   "outputs": [
    {
     "data": {
      "text/plain": [
       "pandas.core.frame.DataFrame"
      ]
     },
     "execution_count": 4,
     "metadata": {},
     "output_type": "execute_result"
    }
   ],
   "source": [
    "type(df)"
   ]
  },
  {
   "cell_type": "code",
   "execution_count": 5,
   "metadata": {},
   "outputs": [
    {
     "data": {
      "text/plain": [
       "pandas.core.series.Series"
      ]
     },
     "execution_count": 5,
     "metadata": {},
     "output_type": "execute_result"
    }
   ],
   "source": [
    "type(my_data)"
   ]
  },
  {
   "cell_type": "markdown",
   "metadata": {},
   "source": [
    "Inciso d:"
   ]
  },
  {
   "cell_type": "code",
   "execution_count": 6,
   "metadata": {},
   "outputs": [
    {
     "name": "stdout",
     "output_type": "stream",
     "text": [
      "Columnas del dataset:\n",
      "Index(['lat', 'lng', 'gid', 'entidad', 'objeto', 'fna', 'gna', 'nam', 'tap',\n",
      "       'jap', 'caa', 'fdc', 'sag', 'area'],\n",
      "      dtype='object')\n",
      "\n",
      "Tipos de datos de las columnas:\n",
      "lat        float64\n",
      "lng        float64\n",
      "gid          int64\n",
      "entidad     object\n",
      "objeto      object\n",
      "fna         object\n",
      "gna         object\n",
      "nam         object\n",
      "tap          int64\n",
      "jap          int64\n",
      "caa          int64\n",
      "fdc         object\n",
      "sag         object\n",
      "area         int64\n",
      "dtype: object\n"
     ]
    }
   ],
   "source": [
    "#Obtener las columnas del dataset\n",
    "columnas = df.columns\n",
    "print(\"Columnas del dataset:\")\n",
    "print(columnas)\n",
    "\n",
    "print()\n",
    "\n",
    "#Obtener los tipos de datos de las columnas\n",
    "tipos_de_datos = df.dtypes\n",
    "print(\"Tipos de datos de las columnas:\")\n",
    "print(tipos_de_datos)"
   ]
  }
 ],
 "metadata": {
  "kernelspec": {
   "display_name": "Python 3",
   "language": "python",
   "name": "python3"
  },
  "language_info": {
   "codemirror_mode": {
    "name": "ipython",
    "version": 3
   },
   "file_extension": ".py",
   "mimetype": "text/x-python",
   "name": "python",
   "nbconvert_exporter": "python",
   "pygments_lexer": "ipython3",
   "version": "3.11.8"
  }
 },
 "nbformat": 4,
 "nbformat_minor": 2
}
