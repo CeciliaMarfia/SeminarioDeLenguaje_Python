{
 "cells": [
  {
   "cell_type": "markdown",
   "metadata": {},
   "source": [
    "### Actividad  3 de teoría por Python Plus - Marfia Cecilia\n",
    "\n"
   ]
  },
  {
   "cell_type": "code",
   "execution_count": null,
   "metadata": {},
   "outputs": [],
   "source": [
    "from collections import Counter\n",
    "import json\n",
    "\n",
    "def my_function(file_name):\n",
    "\n",
    "    with open(file_name) as file:\n",
    "        data = json.load(file)\n",
    "        artists = Counter(map(lambda x: x[\"ciudad\"], data))\n",
    "        return artists.most_common(3)"
   ]
  },
  {
   "cell_type": "code",
   "execution_count": null,
   "metadata": {},
   "outputs": [],
   "source": [
    "try:\n",
    "    my_songs = my_function('musica.json')\n",
    "except FileNotFoundError:\n",
    "    print(\"Tenemos un problema!!\")\n",
    "finally:\n",
    "    for song in my_songs: \n",
    "        print(song)"
   ]
  },
  {
   "cell_type": "markdown",
   "metadata": {},
   "source": [
    "## Inciso A\n",
    "---\n",
    "Modificá la función my_function de manera tal que pueda ser utilizada de la siguiente forma:\n",
    "my_function(file) -> se comporta de la msma manera que la función original, retornando el\n",
    "mismo resultado.\n",
    "my_function(file, n) -> retorna sólo n elementos"
   ]
  },
  {
   "cell_type": "code",
   "execution_count": null,
   "metadata": {},
   "outputs": [],
   "source": [
    "from collections import Counter\n",
    "import json\n",
    "\n",
    "def my_function(file_name, n=3):\n",
    "\n",
    "    with open(file_name) as file:\n",
    "        data = json.load(file)\n",
    "        artists = Counter(map(lambda x: x[\"ciudad\"], data))\n",
    "        return artists.most_common(n)"
   ]
  },
  {
   "cell_type": "code",
   "execution_count": null,
   "metadata": {},
   "outputs": [],
   "source": [
    "try:\n",
    "    my_songs = my_function('musica.json')\n",
    "except FileNotFoundError:\n",
    "    print(\"Tenemos un problema!!\")\n",
    "finally:\n",
    "    for song in my_songs: \n",
    "        print(song)"
   ]
  },
  {
   "cell_type": "markdown",
   "metadata": {},
   "source": [
    "## Inciso B\n",
    "---\n",
    "La función modificada en el punto anterior ¿con cuántos parámetros obligatorios se puede\n",
    "invocar?¿Y opcionales? Ejecutá el código mostrando que esto funciona según lo pedido."
   ]
  },
  {
   "cell_type": "code",
   "execution_count": null,
   "metadata": {},
   "outputs": [],
   "source": [
    "try:\n",
    "    my_songs = my_function('musica.json')\n",
    "except FileNotFoundError:\n",
    "    print(\"Tenemos un problema!!\")\n",
    "finally:\n",
    "    for song in my_songs: \n",
    "        print(song)"
   ]
  },
  {
   "cell_type": "code",
   "execution_count": null,
   "metadata": {},
   "outputs": [],
   "source": [
    "try:\n",
    "    my_songs = my_function('musica.json', 5)\n",
    "except FileNotFoundError:\n",
    "    print(\"Tenemos un problema!!\")\n",
    "finally:\n",
    "    for song in my_songs: \n",
    "        print(song)"
   ]
  },
  {
   "cell_type": "markdown",
   "metadata": {},
   "source": [
    "## Inciso C\n",
    "---\n",
    "¿Dónde debe estar ubicado el archivo para que no se produzca una excepción al ejecutar la\n",
    "función open? Si el archivo no puede abrirse el programa igualmente da error. Explicá por qué\n",
    "sucede esto y modificá el código para que esto no suceda."
   ]
  },
  {
   "cell_type": "code",
   "execution_count": null,
   "metadata": {},
   "outputs": [],
   "source": [
    "# my_songs = []\n",
    "try:\n",
    "    my_songs = my_function('musica2.json')\n",
    "except FileNotFoundError:\n",
    "    print(\"Tenemos un problema!!\")\n",
    "finally:\n",
    "    for song in my_songs: \n",
    "        print(song)"
   ]
  },
  {
   "cell_type": "markdown",
   "metadata": {},
   "source": [
    "## Inciso D\n",
    "---\n",
    "¿En dónde agregarías otro manejador de excepciones de manera tal de controlar que el archivo\n",
    "tiene el formato JSON y en caso de no tenerlo, que no de error. ACLARACIÓN: no es necesario\n",
    "que hagas la modificación."
   ]
  },
  {
   "cell_type": "code",
   "execution_count": null,
   "metadata": {},
   "outputs": [],
   "source": [
    "my_songs = []\n",
    "try:\n",
    "    my_songs = my_function('musica.json')\n",
    "except FileNotFoundError:\n",
    "    print(\"Tenemos un problema!!\")\n",
    "finally:\n",
    "    for song in my_songs: \n",
    "        print(song)"
   ]
  },
  {
   "cell_type": "code",
   "execution_count": null,
   "metadata": {},
   "outputs": [],
   "source": [
    "my_songs = []\n",
    "try:\n",
    "    my_songs = my_function('musica.json')\n",
    "except FileNotFoundError:\n",
    "    print(\"Tenemos un problema!! no se encontro el archivo\")\n",
    "except json.JSONDecodeError:\n",
    "    print(\"Tenemos un problema!! el archivo no tiene formato .json\")\n",
    "finally:\n",
    "    for song in my_songs: \n",
    "        print(song)"
   ]
  },
  {
   "cell_type": "markdown",
   "metadata": {},
   "source": [
    "## Inciso E\n",
    "---\n",
    "¿Cuál es tipo de dato de la variable my_songs? Si quisiéramos acceder a su contenido en\n",
    "otras partes del código y recorrerla más de una vez, ¿qué solución proponés? ACLARACIÓN:\n",
    "no es necesario que hagas la modificación."
   ]
  },
  {
   "cell_type": "code",
   "execution_count": null,
   "metadata": {},
   "outputs": [],
   "source": [
    "my_songs = []\n",
    "try:\n",
    "    my_songs = my_function('musica.json')\n",
    "except FileNotFoundError:\n",
    "    print(\"Tenemos un problema!! no se encontro el archivo\")\n",
    "except json.JSONDecodeError:\n",
    "    print(\"Tenemos un problema!! el archivo no tiene formato .json\")\n",
    "finally:\n",
    "    for song in my_songs: \n",
    "        print(song)"
   ]
  },
  {
   "cell_type": "code",
   "execution_count": null,
   "metadata": {},
   "outputs": [],
   "source": [
    "type(my_songs)"
   ]
  },
  {
   "cell_type": "markdown",
   "metadata": {},
   "source": []
  }
 ],
 "metadata": {
  "kernelspec": {
   "display_name": "Python 3",
   "language": "python",
   "name": "python3"
  },
  "language_info": {
   "codemirror_mode": {
    "name": "ipython",
    "version": 3
   },
   "file_extension": ".py",
   "mimetype": "text/x-python",
   "name": "python",
   "nbconvert_exporter": "python",
   "pygments_lexer": "ipython3",
   "version": "3.11.8"
  }
 },
 "nbformat": 4,
 "nbformat_minor": 2
}
