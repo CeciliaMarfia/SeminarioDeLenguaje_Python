{
 "cells": [
  {
   "cell_type": "markdown",
   "metadata": {},
   "source": [
    "# **Entrega 2 - Jupyter Notebook**\n",
    "10. Un club de hockey posee las estadísticas de todxs sus jugadorxs de la última temporada jugada del torneo de hockey mixto. Poseen una lista con los nombres, otra\n",
    "                           \n",
    "con los goles a favor, otra con los goles evitados y la última con las asistencias realizadas. El club está por otorgar los premios de cierre de temporada y necesita:\n",
    "1. Generar una estructura todas las estadísticas asociadas a cada jugador o jugadora.\n",
    "2. Conocer el nombre y la cantidad de goles del goleador o goleadora.\n",
    "3. Conocer el nombre del jugador o jugadora más influyente, esto se consigue\n",
    "sumando goles a favor, goles evitados y cantidad de asistencias. La particularidad es que los goles a favor, evitados y las asistencias NO valen lo mismo (es un promedio ponderado):\n",
    "\n",
    "| | Valor |\n",
    "|---------------|-------|\n",
    "| goles a favor | 1.5   |\n",
    "| goles evitados| 1.25  |\n",
    "| asistencias   | 1     |\n",
    "\n",
    "4. Conocer el promedio de goles por partido del equipo en general. Dato: Se jugaron 25 partidos en la temporada.\n",
    "5. Conocer el promedio de goles por partido del goleador o goleadora. Dato: Se jugaron 25 partidos en la temporada.\n",
    "\n",
    "**Nota:**\n",
    "Las 4 estructuras están ordenadas de forma que los elementos en la misma\n",
    "posición corresponden a un mismo jugador o jugadora. Realizar funciones con cada ítem\n",
    "Código:"
   ]
  },
  {
   "cell_type": "code",
   "execution_count": 1,
   "metadata": {},
   "outputs": [],
   "source": [
    "names = \"\"\" Agustin, Yanina, Andrés, Ariadna, Bautista, CAROLINA,\n",
    "CESAR, David, Diego, Dolores, DYLAN, ELIANA, Emanuel, Fabián, Noelia,\n",
    "Francsica', FEDERICO, Fernanda, GONZALO, Nancy \"\"\"\n",
    "goals = [0, 10, 4, 0, 5, 14, 0, 0, 7, 2, 1, 1, 1, 5, 6, 1, 1, 2, 0,\n",
    "11]\n",
    "goals_avoided = [0, 2, 0, 0, 5, 2, 0, 0, 1, 2, 0, 5, 5, 0, 1, 0, 2,\n",
    "3, 0, 0]\n",
    "assists = [0, 5, 1, 0, 5, 2, 0, 0, 1, 2, 1, 5, 5, 0, 1, 0, 2, 3, 1,\n",
    "0]"
   ]
  },
  {
   "cell_type": "code",
   "execution_count": 2,
   "metadata": {},
   "outputs": [],
   "source": [
    "import calculadora"
   ]
  },
  {
   "cell_type": "markdown",
   "metadata": {},
   "source": [
    "# Resolución\n",
    "1. En primer lugar se nos proporciona la variable _names_ la cual almacena los nombres de los jugadores, luego tenemos _goals_, goals_avoided y _assists_ que son variables que almacenan listas con la información en orden correspondiente a cada jugador/a.\n",
    "Defino una función en la cual voy a ir generando la estructura (una lista que contiene diccionarios). Cada diccionario en la lista representa las estadísticas de un/a jugador/a en particular. "
   ]
  },
  {
   "cell_type": "markdown",
   "metadata": {},
   "source": [
    "Separo cada elemento de la cadena de caracteres almacenada en _names_ para obtener cada elementos en una lista que se almacenará en esa misma  variable."
   ]
  },
  {
   "cell_type": "code",
   "execution_count": 3,
   "metadata": {},
   "outputs": [],
   "source": [
    "names = names.split(\",\")"
   ]
  },
  {
   "cell_type": "code",
   "execution_count": 4,
   "metadata": {},
   "outputs": [],
   "source": [
    "statistics = calculadora.statistics_generator(names,goals,goals_avoided,assists)"
   ]
  },
  {
   "cell_type": "markdown",
   "metadata": {},
   "source": [
    "Imprimo las estadísticas para cada jugador:"
   ]
  },
  {
   "cell_type": "code",
   "execution_count": 5,
   "metadata": {},
   "outputs": [
    {
     "name": "stdout",
     "output_type": "stream",
     "text": [
      "-> Estadísticas de los jugadores:\n",
      "* Nombre:  Agustin\n",
      "* Goles a favor: 0\n",
      "* Goles evitados: 0\n",
      "* Asistencias: 0\n",
      "-------------------------\n",
      "* Nombre:  Yanina\n",
      "* Goles a favor: 10\n",
      "* Goles evitados: 2\n",
      "* Asistencias: 5\n",
      "-------------------------\n",
      "* Nombre:  Andrés\n",
      "* Goles a favor: 4\n",
      "* Goles evitados: 0\n",
      "* Asistencias: 1\n",
      "-------------------------\n",
      "* Nombre:  Ariadna\n",
      "* Goles a favor: 0\n",
      "* Goles evitados: 0\n",
      "* Asistencias: 0\n",
      "-------------------------\n",
      "* Nombre:  Bautista\n",
      "* Goles a favor: 5\n",
      "* Goles evitados: 5\n",
      "* Asistencias: 5\n",
      "-------------------------\n",
      "* Nombre:  CAROLINA\n",
      "* Goles a favor: 14\n",
      "* Goles evitados: 2\n",
      "* Asistencias: 2\n",
      "-------------------------\n",
      "* Nombre: \n",
      "CESAR\n",
      "* Goles a favor: 0\n",
      "* Goles evitados: 0\n",
      "* Asistencias: 0\n",
      "-------------------------\n",
      "* Nombre:  David\n",
      "* Goles a favor: 0\n",
      "* Goles evitados: 0\n",
      "* Asistencias: 0\n",
      "-------------------------\n",
      "* Nombre:  Diego\n",
      "* Goles a favor: 7\n",
      "* Goles evitados: 1\n",
      "* Asistencias: 1\n",
      "-------------------------\n",
      "* Nombre:  Dolores\n",
      "* Goles a favor: 2\n",
      "* Goles evitados: 2\n",
      "* Asistencias: 2\n",
      "-------------------------\n",
      "* Nombre:  DYLAN\n",
      "* Goles a favor: 1\n",
      "* Goles evitados: 0\n",
      "* Asistencias: 1\n",
      "-------------------------\n",
      "* Nombre:  ELIANA\n",
      "* Goles a favor: 1\n",
      "* Goles evitados: 5\n",
      "* Asistencias: 5\n",
      "-------------------------\n",
      "* Nombre:  Emanuel\n",
      "* Goles a favor: 1\n",
      "* Goles evitados: 5\n",
      "* Asistencias: 5\n",
      "-------------------------\n",
      "* Nombre:  Fabián\n",
      "* Goles a favor: 5\n",
      "* Goles evitados: 0\n",
      "* Asistencias: 0\n",
      "-------------------------\n",
      "* Nombre:  Noelia\n",
      "* Goles a favor: 6\n",
      "* Goles evitados: 1\n",
      "* Asistencias: 1\n",
      "-------------------------\n",
      "* Nombre: \n",
      "Francsica'\n",
      "* Goles a favor: 1\n",
      "* Goles evitados: 0\n",
      "* Asistencias: 0\n",
      "-------------------------\n",
      "* Nombre:  FEDERICO\n",
      "* Goles a favor: 1\n",
      "* Goles evitados: 2\n",
      "* Asistencias: 2\n",
      "-------------------------\n",
      "* Nombre:  Fernanda\n",
      "* Goles a favor: 2\n",
      "* Goles evitados: 3\n",
      "* Asistencias: 3\n",
      "-------------------------\n",
      "* Nombre:  GONZALO\n",
      "* Goles a favor: 0\n",
      "* Goles evitados: 0\n",
      "* Asistencias: 1\n",
      "-------------------------\n",
      "* Nombre:  Nancy \n",
      "* Goles a favor: 11\n",
      "* Goles evitados: 0\n",
      "* Asistencias: 0\n",
      "-------------------------\n"
     ]
    }
   ],
   "source": [
    "print(\"-> Estadísticas de los jugadores:\")\n",
    "for player in statistics:\n",
    "    print(f\"* Nombre: {player['Nombre']}\")\n",
    "    print(f\"* Goles a favor: {player['Goles a favor']}\")\n",
    "    print(f\"* Goles evitados: {player['Goles evitados']}\")\n",
    "    print(f\"* Asistencias: {player['Asistencias']}\")\n",
    "    print(\"-------------------------\")"
   ]
  },
  {
   "cell_type": "markdown",
   "metadata": {},
   "source": [
    "2. Para conocer el nombre y la cantidad de goles del goleador o goleadora invocamos una función que recibe la lista de estadística donde cada elemento tal como indiqué anteriormente es un diccionario que contiene información sobre un/a jugador/a (nombre y la cantidad de goles). Mediante el uso de max() y a través de la clave \"goles a favor\" de cada diccionaro, la función max() va a tomar como argumento la función key que utiliza una función anónima (lambda) para obtener el valor de la cantidad de goles (\"Goles a favor\") de cada jugador/a. Luego retorno esa información e imprimo en pantalla."
   ]
  },
  {
   "cell_type": "code",
   "execution_count": 6,
   "metadata": {},
   "outputs": [
    {
     "name": "stdout",
     "output_type": "stream",
     "text": [
      " CAROLINA  con  14 goles.\n"
     ]
    }
   ],
   "source": [
    "nameMax,maxGoals = calculadora.top_scorer(statistics)\n",
    "print(nameMax,\" con \",maxGoals, \"goles.\")"
   ]
  },
  {
   "cell_type": "markdown",
   "metadata": {},
   "source": [
    "3. Ahora queremos conocer el nombre del jugador o jugadora más influyente, esto se consigue sumando goles a favor, goles evitados y cantidad de asistencias. La particularidad es que los goles a favor, evitados y las asistencias NO valen lo mismo (es un _promedio ponderado_). El promedio ponderado se calcula multiplicando cada valor por su respectivo peso, sumando estos productos y luego dividiendo la suma resultante por la suma de los pesos."
   ]
  },
  {
   "cell_type": "code",
   "execution_count": 7,
   "metadata": {},
   "outputs": [
    {
     "name": "stdout",
     "output_type": "stream",
     "text": [
      "El jugador más influyente es:  CAROLINA  con un puntaje de: 25.5\n"
     ]
    }
   ],
   "source": [
    "influential_player, their_score = calculadora.most_influential_player(statistics)\n",
    "print(\"El jugador más influyente es:\", influential_player,' con un puntaje de:', their_score)"
   ]
  },
  {
   "cell_type": "markdown",
   "metadata": {},
   "source": [
    "4. El Promedio de goles por partido: se calcula sumando el total de goles por la cantidad de partidos de la temporada:"
   ]
  },
  {
   "cell_type": "code",
   "execution_count": 8,
   "metadata": {},
   "outputs": [
    {
     "name": "stdout",
     "output_type": "stream",
     "text": [
      "Promedio de goles por partido del equipo en general 2.84\n"
     ]
    }
   ],
   "source": [
    "#Asigno la cantidad de partidos de la temporada\n",
    "games = 25\n",
    "\n",
    "total_goals = sum(goals)\n",
    "average = calculadora.averaging(total_goals,games)\n",
    "print(\"Promedio de goles por partido del equipo en general\",average)"
   ]
  },
  {
   "cell_type": "markdown",
   "metadata": {},
   "source": [
    "5. El promedio de goles por partido del goleador o goleadora. "
   ]
  },
  {
   "cell_type": "code",
   "execution_count": 9,
   "metadata": {},
   "outputs": [
    {
     "name": "stdout",
     "output_type": "stream",
     "text": [
      "El promedio de goles por partido del goleador o goleadora.En este caso  CAROLINA es:  0.56\n"
     ]
    }
   ],
   "source": [
    "average_for_best_player = calculadora.average_best_player(maxGoals,games)\n",
    "print(\"El promedio de goles por partido del goleador o goleadora.En este caso\",nameMax,'es: ',average_for_best_player)"
   ]
  }
 ],
 "metadata": {
  "kernelspec": {
   "display_name": "Python 3",
   "language": "python",
   "name": "python3"
  },
  "language_info": {
   "codemirror_mode": {
    "name": "ipython",
    "version": 3
   },
   "file_extension": ".py",
   "mimetype": "text/x-python",
   "name": "python",
   "nbconvert_exporter": "python",
   "pygments_lexer": "ipython3",
   "version": "3.11.8"
  }
 },
 "nbformat": 4,
 "nbformat_minor": 2
}
